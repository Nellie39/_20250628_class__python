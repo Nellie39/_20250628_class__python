{
 "cells": [
  {
   "cell_type": "code",
   "execution_count": 7,
   "id": "83ac4890",
   "metadata": {},
   "outputs": [
    {
     "name": "stdout",
     "output_type": "stream",
     "text": [
      "人工智慧（AI）是如何工作的？簡單來說，人工智慧的核心在於讓電腦從數據中學習，並根據所學到的模式來執行任務、做出判斷或預測。\n",
      "\n",
      "它的工作流程可以概括為以下幾個步驟：\n",
      "\n",
      "第一步：數據收集與準備\n",
      "AI系統需要大量的數據來學習。這些數據可以是文字、圖片、音訊、影片、數字表格等各種形式的資訊。數據的品質和數量對於AI的學習效果至關重要。在將數據提供給AI之前，通常還需要進行清洗、整理和標註，使其適合模型學習。\n",
      "\n",
      "第二步：模型訓練\n",
      "在收集並準備好數據後，AI會進入「訓練」階段。這就像是讓學生做大量的練習題一樣。AI模型（這是一個複雜的數學和統計結構，通常稱為演算法）會被輸入這些數據。在訓練過程中，模型會反覆分析這些數據，自動找出其中的規律、模式和相關性。例如，如果你想讓AI辨識圖片中的貓，你會給它數百萬張標註為「貓」或「非貓」的圖片，AI就會從中學習貓咪的視覺特徵。\n",
      "\n",
      "第三步：模型建立與優化\n",
      "透過訓練，AI模型會建立起一個內部知識結構。這個結構能夠捕捉數據中的關係。這個過程並不是人類明確地告訴電腦每一步該怎麼做，而是電腦透過試錯和調整內部參數，自行從數據中「歸納」出規則。如果模型的預測結果與實際不符，它會調整自身的參數，直到預測越來越準確。\n",
      "\n",
      "第四步：模型應用與推理\n",
      "一旦AI模型完成了訓練，它就具備了「推理」或「預測」的能力。當你給它一個它從未見過的新數據時，它就能夠根據它在訓練階段所學到的知識和模式，來做出判斷、分類、推薦或生成新的內容。例如，當你上傳一張新的圖片時，AI可以判斷它是否包含貓咪；當你說一句話時，AI可以將其轉換為文字；當你購物時，AI可以推薦你可能喜歡的商品。\n",
      "\n",
      "第五步：持續學習與改進（可選但常見）\n",
      "許多AI系統具備持續學習的能力。這意味著在投入使用後，它們還可以根據新的數據和用戶的反饋繼續學習和改進自身的性能，使其表現越來越好。\n",
      "\n",
      "總結來說，AI並不是被程式設計師直接告訴所有答案的程式，而是一個能夠透過學習大量數據來自己找出答案、理解模式，並將這些模式應用於新情況的智慧系統。\n"
     ]
    }
   ],
   "source": [
    "from google import genai\n",
    "import os\n",
    "from IPython.display import display, Markdown, Latex\n",
    "\n",
    "client = genai.Client(api_key=os.environ['GEMINI_API_KEY'])\n",
    "# print(type(client))\n",
    "# print(type(client.models))\n",
    "# for model in client.models.list():\n",
    "#     if \"generateContent\" in model.supported_actions:\n",
    "#         print(model.name)\n",
    "response = client.models.generate_content(\n",
    "    model=\"gemini-2.5-flash\",\n",
    "    contents=\"AI是如何工作的(請使用繁體中文回答)?, 請給我純文字的回答，不要包含任何程式碼或其他格式化內容。\",\n",
    ")\n",
    "\n",
    "print(response.text)\n",
    "\n",
    "#display(Markdown(response.text))"
   ]
  },
  {
   "cell_type": "code",
   "execution_count": 8,
   "id": "8d2dd7c5",
   "metadata": {},
   "outputs": [
    {
     "name": "stdout",
     "output_type": "stream",
     "text": [
      "AI works by finding patterns in data.\n"
     ]
    }
   ],
   "source": [
    "from google import genai\n",
    "from google.genai import types\n",
    "\n",
    "client = genai.Client()\n",
    "\n",
    "response = client.models.generate_content(\n",
    "    model=\"gemini-2.5-flash\",\n",
    "    contents=\"Explain how AI works in a few words\",\n",
    "    config=types.GenerateContentConfig(\n",
    "        thinking_config=types.ThinkingConfig(thinking_budget=0) # Disables thinking\n",
    "    ),\n",
    ")\n",
    "print(response.text)"
   ]
  }
 ],
 "metadata": {
  "kernelspec": {
   "display_name": "linebot",
   "language": "python",
   "name": "python3"
  },
  "language_info": {
   "codemirror_mode": {
    "name": "ipython",
    "version": 3
   },
   "file_extension": ".py",
   "mimetype": "text/x-python",
   "name": "python",
   "nbconvert_exporter": "python",
   "pygments_lexer": "ipython3",
   "version": "3.12.11"
  }
 },
 "nbformat": 4,
 "nbformat_minor": 5
}
