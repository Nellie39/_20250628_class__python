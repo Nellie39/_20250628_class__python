{
 "cells": [
  {
   "cell_type": "code",
   "execution_count": null,
   "id": "d8613bcb",
   "metadata": {},
   "outputs": [
    {
     "name": "stdout",
     "output_type": "stream",
     "text": [
      "人工智慧 (Artificial Intelligence, 簡稱 AI) 是一種模擬人類智慧的科技。它的工作原理並不像人類那樣真正地「思考」或「理解」，而是透過**學習大量數據、識別模式，並根據\n",
      "這些模式做出預測或決策**。\n",
      "\n",
      "以下是 AI 工作的核心原理與步驟：\n",
      "\n",
      "### 一、AI 的「學習」過程 (以機器學習為核心)\n",
      "\n",
      "當我們談論 AI 如何工作時，通常\n",
      "主要指的就是「機器學習 (Machine Learning, ML)」或其子領域「深度學習 (Deep Learning, DL)」。這個過程可以分為幾個關鍵步驟：\n",
      "\n",
      "1.  **數據收集與準備 (Data Collection & Preparation)**\n",
      "    \n",
      "*   **概念：** 就像人類學習需要經驗一樣，AI 需要大量的數據作為「學習材料」。這些數據可以是文字、圖片、聲音、數字等任何形式。\n",
      "    *   **實例：** 如果要訓練一個\n",
      "識別貓的 AI，就需要輸入數以萬計甚至百萬計的貓的圖片（以及非貓的圖片）。這些數據通常需要經過「清洗」(移除錯誤或重複的數據) 和「標註」(告訴 AI 圖片裡\n",
      "是貓還是狗，或是貓在圖片的哪個位置)。\n",
      "\n",
      "2.  **選擇模型與演算法 (Model & Algorithm Selection)**\n",
      "    *   **概念：** 數據準備好後，需要選擇一個適合任務\n",
      "的「模型」和「演算法」。模型就像一個「空白的大腦」或「待完成的食譜」，而演算法則是學習的「方法」或「規則」。\n",
      "    *   **實例：** 常\n",
      "見的演算法包括：決策樹 (Decision Trees)、支援向量機 (Support Vector Machines)、迴歸分析 (Regression)、神經網路 (Neural Networks) 等。針對圖像識別，通常會選擇卷積神經網路\n",
      " (Convolutional Neural Networks, CNN)；針對語言處理，則可能使用循環神經網路 (Recurrent Neural Networks, RNN) 或 Transformer 模型。\n",
      "\n",
      "3.  **訓練 (Training)**\n",
      "    *   **概念：** 這個階段\n",
      "，AI 模型會被「餵食」準備好的數據。模型會根據其演算法，嘗試從數據中找出規律、特徵和模式。\n",
      "    *   **過程：**\n",
      "        *   **初始化：\n",
      "** 模型內部的參數會被隨機設定。\n",
      "        *   **預測：** 模型會對輸入數據做出一個初步的預測。\n",
      "        *   **錯誤計算：** 將模型的預測結果與真實答案\n",
      "（標註的數據）進行比較，計算出「錯誤」或「損失」(Loss)。\n",
      "        *   **參數調整：** 根據錯誤的大小和方向，模型會透過一種稱為「優化」(Optimization) 的機制（如\n",
      "梯度下降），微調其內部的參數，目標是讓下一次的預測更準確。\n",
      "        *   **迭代：** 這個過程會重複成千上萬次（稱為「世代」或 Epochs），直到模型的\n",
      "錯誤率達到可接受的水平。\n",
      "    *   **實例：** 對於貓的圖片，模型一開始可能隨機猜測，然後根據猜對或猜錯，調整內部「權重」（例如，\n",
      "哪些像素組合更可能代表貓的耳朵或鬍鬚），直到它能準確地識別出貓。\n",
      "\n",
      "4.  **評估與優化 (Evaluation & Optimization)**\n",
      "    *   **概念：** 訓練完成後，\n",
      "需要使用獨立於訓練數據的「測試數據」來評估模型的性能。這確保模型不是簡單地「記住」了訓練數據，而是真正學會了泛化 (Generalize) 能力。\n",
      "    *   **實\n",
      "例：** 用從未見過的貓的圖片來測試模型，看它能多準確地識別出來。如果性能不佳，可能需要調整模型結構、演算法參數，或者收集更多數據，然後重新訓練。\n",
      "\n",
      "\n",
      "5.  **部署與應用 (Deployment & Application)**\n",
      "    *   **概念：** 當模型表現令人滿意時，就可以將其部署到實際應用中，開始為用戶提供服務。這時，模型會接收\n",
      "新的、未知的數據，並根據其所學到的模式做出實時的預測或決策。\n",
      "    *   **實例：** 將訓練好的貓識別模型整合到手機App中，用戶上傳照片後\n",
      "，App就能自動判斷照片裡是否有貓。\n",
      "\n",
      "### 二、AI 工作的核心要素\n",
      "\n",
      "無論是哪個領域的 AI，其運作都離不開以下三個核心要素：\n",
      "\n",
      "1.  **數據 (Data)**\n",
      "\n",
      "    *   AI 的「燃料」。沒有足夠的、高品質的數據，AI 無法有效學習。數據的質量和數量直接影響 AI 的性能。\n",
      "\n",
      "2.  **演算法 (Algorithms)**\n",
      "    *\n",
      "   AI 的「大腦」或「學習規則」。它定義了 AI 如何從數據中學習、如何建立模型，以及如何做出決策。\n",
      "\n",
      "3.  **運算能力 (Computational Power)**\n",
      "    *   支\n",
      "撐複雜計算的基礎設施。訓練大型 AI 模型需要龐大的計算資源，例如強大的中央處理器 (CPU) 和圖形處理器 (GPU)。\n",
      "\n",
      "### 三、機器學習 (ML) 與深度學習 (DL\n",
      ")\n",
      "\n",
      "*   **機器學習 (ML)**：是 AI 的一個分支，其核心思想是讓機器從數據中學習，而不是透過明確的編程指令。上述的學習過程就是 ML 的典型範例。\n",
      "*\n",
      "   **深度學習 (DL)**：是機器學習的一個子集，它使用多層次的「神經網路」(Neural Networks) 來學習。這些網路的結構受到人腦的啟發，能夠自動從數據中提取更\n",
      "複雜、更抽象的特徵，這使得深度學習在圖像識別、語音識別和自然語言處理等領域取得了突破性的進展。\n",
      "\n",
      "### 四、AI 的應用實例\n",
      "\n",
      "基於上述工作原理，AI 在我們的\n",
      "生活中無處不在：\n",
      "\n",
      "*   **影像識別：** 人臉辨識、自動駕駛車輛識別道路標誌和行人、醫療影像診斷。\n",
      "*   **自然語言處理：** 語音助理 (\n",
      "Siri, Google Assistant)、機器翻譯 (Google Translate)、垃圾郵件過濾、情感分析。\n",
      "*   **推薦系統：** 購物網站推薦商品、影音平台推薦影片、音樂App推薦歌曲。\n",
      "*   **預\n",
      "測分析：** 金融領域的詐欺檢測、股票市場預測、天氣預報、疾病風險評估。\n",
      "*   **自動化與機器人：** 工廠自動化、智能家居設備、客服\n",
      "聊天機器人。\n",
      "\n",
      "### 總結\n",
      "\n",
      "總之，AI 工作的核心原理就是**透過分析大量數據，從中學習規律、建立模型，並利用這些模型來識別模式、預測結果或自動執行任務**。\n",
      "它不是真正的「智慧」，而是高度複雜的數學和統計模型在數據驅動下的表現。隨著數據量、運算能力和演算法的持續進步，AI 正變得越來越強大，並在各行各業發\n",
      "揮著越來越重要的作用。\n"
     ]
    }
   ],
   "source": [
    "from google import genai\n",
    "\n",
    "client = genai.Client()\n",
    "response = client.models.generate_content_stream(\n",
    "    model=\"gemini-2.5-flash\",\n",
    "    contents=[\"AI是如何工作的(請使用繁體中文回答)?\"]\n",
    ")\n",
    "for chunk in response:\n",
    "    print(chunk.text)"
   ]
  },
  {
   "cell_type": "code",
   "execution_count": 3,
   "id": "6544e3e3",
   "metadata": {},
   "outputs": [
    {
     "name": "stdout",
     "output_type": "stream",
     "text": [
      "5\n",
      "9\n",
      "10\n"
     ]
    }
   ],
   "source": [
    "for item in [5,9,10]:\n",
    "    print(item)"
   ]
  },
  {
   "cell_type": "code",
   "execution_count": null,
   "id": "5a3738b3",
   "metadata": {},
   "outputs": [
    {
     "ename": "ClientError",
     "evalue": "400 INVALID_ARGUMENT. {'error': {'code': 400, 'message': 'Please use a valid role: user, model.', 'status': 'INVALID_ARGUMENT'}}",
     "output_type": "error",
     "traceback": [
      "\u001b[31m---------------------------------------------------------------------------\u001b[39m",
      "\u001b[31mClientError\u001b[39m                               Traceback (most recent call last)",
      "\u001b[36mCell\u001b[39m\u001b[36m \u001b[39m\u001b[32mIn[34]\u001b[39m\u001b[32m, line 7\u001b[39m\n\u001b[32m      5\u001b[39m client = genai.Client()\n\u001b[32m      6\u001b[39m image = PIL.Image.open(\u001b[33m'\u001b[39m\u001b[33mpig.jpg\u001b[39m\u001b[33m'\u001b[39m)\n\u001b[32m----> \u001b[39m\u001b[32m7\u001b[39m response = \u001b[43mclient\u001b[49m\u001b[43m.\u001b[49m\u001b[43mmodels\u001b[49m\u001b[43m.\u001b[49m\u001b[43mgenerate_content\u001b[49m\u001b[43m(\u001b[49m\n\u001b[32m      8\u001b[39m \u001b[43m    \u001b[49m\u001b[43mmodel\u001b[49m\u001b[43m=\u001b[49m\u001b[33;43m\"\u001b[39;49m\u001b[33;43mgemini-2.5-flash\u001b[39;49m\u001b[33;43m\"\u001b[39;49m\u001b[43m,\u001b[49m\n\u001b[32m      9\u001b[39m \u001b[43m    \u001b[49m\u001b[43mcontents\u001b[49m\u001b[43m=\u001b[49m\u001b[43m[\u001b[49m\u001b[43mimage\u001b[49m\u001b[43m,\u001b[49m\u001b[43m \u001b[49m\u001b[33;43m\"\u001b[39;49m\u001b[33;43m請告訴我這是什麼動物,還有關於它的一些資訊\u001b[39;49m\u001b[33;43m\"\u001b[39;49m\u001b[43m]\u001b[49m\n\u001b[32m     10\u001b[39m \u001b[43m)\u001b[49m\n\u001b[32m     12\u001b[39m display(Markdown(response.text))\n",
      "\u001b[36mFile \u001b[39m\u001b[32m~/miniconda/envs/linebot/lib/python3.12/site-packages/google/genai/models.py:5835\u001b[39m, in \u001b[36mModels.generate_content\u001b[39m\u001b[34m(self, model, contents, config)\u001b[39m\n\u001b[32m   5833\u001b[39m \u001b[38;5;28;01mwhile\u001b[39;00m remaining_remote_calls_afc > \u001b[32m0\u001b[39m:\n\u001b[32m   5834\u001b[39m   i += \u001b[32m1\u001b[39m\n\u001b[32m-> \u001b[39m\u001b[32m5835\u001b[39m   response = \u001b[38;5;28;43mself\u001b[39;49m\u001b[43m.\u001b[49m\u001b[43m_generate_content\u001b[49m\u001b[43m(\u001b[49m\n\u001b[32m   5836\u001b[39m \u001b[43m      \u001b[49m\u001b[43mmodel\u001b[49m\u001b[43m=\u001b[49m\u001b[43mmodel\u001b[49m\u001b[43m,\u001b[49m\u001b[43m \u001b[49m\u001b[43mcontents\u001b[49m\u001b[43m=\u001b[49m\u001b[43mcontents\u001b[49m\u001b[43m,\u001b[49m\u001b[43m \u001b[49m\u001b[43mconfig\u001b[49m\u001b[43m=\u001b[49m\u001b[43mparsed_config\u001b[49m\n\u001b[32m   5837\u001b[39m \u001b[43m  \u001b[49m\u001b[43m)\u001b[49m\n\u001b[32m   5838\u001b[39m   logger.info(\u001b[33mf\u001b[39m\u001b[33m'\u001b[39m\u001b[33mAFC remote call \u001b[39m\u001b[38;5;132;01m{\u001b[39;00mi\u001b[38;5;132;01m}\u001b[39;00m\u001b[33m is done.\u001b[39m\u001b[33m'\u001b[39m)\n\u001b[32m   5839\u001b[39m   remaining_remote_calls_afc -= \u001b[32m1\u001b[39m\n",
      "\u001b[36mFile \u001b[39m\u001b[32m~/miniconda/envs/linebot/lib/python3.12/site-packages/google/genai/models.py:4761\u001b[39m, in \u001b[36mModels._generate_content\u001b[39m\u001b[34m(self, model, contents, config)\u001b[39m\n\u001b[32m   4758\u001b[39m request_dict = _common.convert_to_dict(request_dict)\n\u001b[32m   4759\u001b[39m request_dict = _common.encode_unserializable_types(request_dict)\n\u001b[32m-> \u001b[39m\u001b[32m4761\u001b[39m response = \u001b[38;5;28;43mself\u001b[39;49m\u001b[43m.\u001b[49m\u001b[43m_api_client\u001b[49m\u001b[43m.\u001b[49m\u001b[43mrequest\u001b[49m\u001b[43m(\u001b[49m\n\u001b[32m   4762\u001b[39m \u001b[43m    \u001b[49m\u001b[33;43m'\u001b[39;49m\u001b[33;43mpost\u001b[39;49m\u001b[33;43m'\u001b[39;49m\u001b[43m,\u001b[49m\u001b[43m \u001b[49m\u001b[43mpath\u001b[49m\u001b[43m,\u001b[49m\u001b[43m \u001b[49m\u001b[43mrequest_dict\u001b[49m\u001b[43m,\u001b[49m\u001b[43m \u001b[49m\u001b[43mhttp_options\u001b[49m\n\u001b[32m   4763\u001b[39m \u001b[43m\u001b[49m\u001b[43m)\u001b[49m\n\u001b[32m   4765\u001b[39m response_dict = \u001b[33m'\u001b[39m\u001b[33m'\u001b[39m \u001b[38;5;28;01mif\u001b[39;00m \u001b[38;5;129;01mnot\u001b[39;00m response.body \u001b[38;5;28;01melse\u001b[39;00m json.loads(response.body)\n\u001b[32m   4767\u001b[39m \u001b[38;5;28;01mif\u001b[39;00m \u001b[38;5;28mself\u001b[39m._api_client.vertexai:\n",
      "\u001b[36mFile \u001b[39m\u001b[32m~/miniconda/envs/linebot/lib/python3.12/site-packages/google/genai/_api_client.py:1177\u001b[39m, in \u001b[36mBaseApiClient.request\u001b[39m\u001b[34m(self, http_method, path, request_dict, http_options)\u001b[39m\n\u001b[32m   1167\u001b[39m \u001b[38;5;28;01mdef\u001b[39;00m\u001b[38;5;250m \u001b[39m\u001b[34mrequest\u001b[39m(\n\u001b[32m   1168\u001b[39m     \u001b[38;5;28mself\u001b[39m,\n\u001b[32m   1169\u001b[39m     http_method: \u001b[38;5;28mstr\u001b[39m,\n\u001b[32m   (...)\u001b[39m\u001b[32m   1172\u001b[39m     http_options: Optional[HttpOptionsOrDict] = \u001b[38;5;28;01mNone\u001b[39;00m,\n\u001b[32m   1173\u001b[39m ) -> SdkHttpResponse:\n\u001b[32m   1174\u001b[39m   http_request = \u001b[38;5;28mself\u001b[39m._build_request(\n\u001b[32m   1175\u001b[39m       http_method, path, request_dict, http_options\n\u001b[32m   1176\u001b[39m   )\n\u001b[32m-> \u001b[39m\u001b[32m1177\u001b[39m   response = \u001b[38;5;28;43mself\u001b[39;49m\u001b[43m.\u001b[49m\u001b[43m_request\u001b[49m\u001b[43m(\u001b[49m\u001b[43mhttp_request\u001b[49m\u001b[43m,\u001b[49m\u001b[43m \u001b[49m\u001b[43mhttp_options\u001b[49m\u001b[43m,\u001b[49m\u001b[43m \u001b[49m\u001b[43mstream\u001b[49m\u001b[43m=\u001b[49m\u001b[38;5;28;43;01mFalse\u001b[39;49;00m\u001b[43m)\u001b[49m\n\u001b[32m   1178\u001b[39m   response_body = (\n\u001b[32m   1179\u001b[39m       response.response_stream[\u001b[32m0\u001b[39m] \u001b[38;5;28;01mif\u001b[39;00m response.response_stream \u001b[38;5;28;01melse\u001b[39;00m \u001b[33m'\u001b[39m\u001b[33m'\u001b[39m\n\u001b[32m   1180\u001b[39m   )\n\u001b[32m   1181\u001b[39m   \u001b[38;5;28;01mreturn\u001b[39;00m SdkHttpResponse(headers=response.headers, body=response_body)\n",
      "\u001b[36mFile \u001b[39m\u001b[32m~/miniconda/envs/linebot/lib/python3.12/site-packages/google/genai/_api_client.py:997\u001b[39m, in \u001b[36mBaseApiClient._request\u001b[39m\u001b[34m(self, http_request, http_options, stream)\u001b[39m\n\u001b[32m    994\u001b[39m     retry = tenacity.Retrying(**retry_kwargs)\n\u001b[32m    995\u001b[39m     \u001b[38;5;28;01mreturn\u001b[39;00m retry(\u001b[38;5;28mself\u001b[39m._request_once, http_request, stream)  \u001b[38;5;66;03m# type: ignore[no-any-return]\u001b[39;00m\n\u001b[32m--> \u001b[39m\u001b[32m997\u001b[39m \u001b[38;5;28;01mreturn\u001b[39;00m \u001b[38;5;28;43mself\u001b[39;49m\u001b[43m.\u001b[49m\u001b[43m_retry\u001b[49m\u001b[43m(\u001b[49m\u001b[38;5;28;43mself\u001b[39;49m\u001b[43m.\u001b[49m\u001b[43m_request_once\u001b[49m\u001b[43m,\u001b[49m\u001b[43m \u001b[49m\u001b[43mhttp_request\u001b[49m\u001b[43m,\u001b[49m\u001b[43m \u001b[49m\u001b[43mstream\u001b[49m\u001b[43m)\u001b[49m\n",
      "\u001b[36mFile \u001b[39m\u001b[32m~/miniconda/envs/linebot/lib/python3.12/site-packages/tenacity/__init__.py:475\u001b[39m, in \u001b[36mRetrying.__call__\u001b[39m\u001b[34m(self, fn, *args, **kwargs)\u001b[39m\n\u001b[32m    473\u001b[39m retry_state = RetryCallState(retry_object=\u001b[38;5;28mself\u001b[39m, fn=fn, args=args, kwargs=kwargs)\n\u001b[32m    474\u001b[39m \u001b[38;5;28;01mwhile\u001b[39;00m \u001b[38;5;28;01mTrue\u001b[39;00m:\n\u001b[32m--> \u001b[39m\u001b[32m475\u001b[39m     do = \u001b[38;5;28;43mself\u001b[39;49m\u001b[43m.\u001b[49m\u001b[43miter\u001b[49m\u001b[43m(\u001b[49m\u001b[43mretry_state\u001b[49m\u001b[43m=\u001b[49m\u001b[43mretry_state\u001b[49m\u001b[43m)\u001b[49m\n\u001b[32m    476\u001b[39m     \u001b[38;5;28;01mif\u001b[39;00m \u001b[38;5;28misinstance\u001b[39m(do, DoAttempt):\n\u001b[32m    477\u001b[39m         \u001b[38;5;28;01mtry\u001b[39;00m:\n",
      "\u001b[36mFile \u001b[39m\u001b[32m~/miniconda/envs/linebot/lib/python3.12/site-packages/tenacity/__init__.py:376\u001b[39m, in \u001b[36mBaseRetrying.iter\u001b[39m\u001b[34m(self, retry_state)\u001b[39m\n\u001b[32m    374\u001b[39m result = \u001b[38;5;28;01mNone\u001b[39;00m\n\u001b[32m    375\u001b[39m \u001b[38;5;28;01mfor\u001b[39;00m action \u001b[38;5;129;01min\u001b[39;00m \u001b[38;5;28mself\u001b[39m.iter_state.actions:\n\u001b[32m--> \u001b[39m\u001b[32m376\u001b[39m     result = \u001b[43maction\u001b[49m\u001b[43m(\u001b[49m\u001b[43mretry_state\u001b[49m\u001b[43m)\u001b[49m\n\u001b[32m    377\u001b[39m \u001b[38;5;28;01mreturn\u001b[39;00m result\n",
      "\u001b[36mFile \u001b[39m\u001b[32m~/miniconda/envs/linebot/lib/python3.12/site-packages/tenacity/__init__.py:418\u001b[39m, in \u001b[36mBaseRetrying._post_stop_check_actions.<locals>.exc_check\u001b[39m\u001b[34m(rs)\u001b[39m\n\u001b[32m    416\u001b[39m retry_exc = \u001b[38;5;28mself\u001b[39m.retry_error_cls(fut)\n\u001b[32m    417\u001b[39m \u001b[38;5;28;01mif\u001b[39;00m \u001b[38;5;28mself\u001b[39m.reraise:\n\u001b[32m--> \u001b[39m\u001b[32m418\u001b[39m     \u001b[38;5;28;01mraise\u001b[39;00m \u001b[43mretry_exc\u001b[49m\u001b[43m.\u001b[49m\u001b[43mreraise\u001b[49m\u001b[43m(\u001b[49m\u001b[43m)\u001b[49m\n\u001b[32m    419\u001b[39m \u001b[38;5;28;01mraise\u001b[39;00m retry_exc \u001b[38;5;28;01mfrom\u001b[39;00m\u001b[38;5;250m \u001b[39m\u001b[34;01mfut\u001b[39;00m\u001b[34;01m.\u001b[39;00m\u001b[34;01mexception\u001b[39;00m()\n",
      "\u001b[36mFile \u001b[39m\u001b[32m~/miniconda/envs/linebot/lib/python3.12/site-packages/tenacity/__init__.py:185\u001b[39m, in \u001b[36mRetryError.reraise\u001b[39m\u001b[34m(self)\u001b[39m\n\u001b[32m    183\u001b[39m \u001b[38;5;28;01mdef\u001b[39;00m\u001b[38;5;250m \u001b[39m\u001b[34mreraise\u001b[39m(\u001b[38;5;28mself\u001b[39m) -> t.NoReturn:\n\u001b[32m    184\u001b[39m     \u001b[38;5;28;01mif\u001b[39;00m \u001b[38;5;28mself\u001b[39m.last_attempt.failed:\n\u001b[32m--> \u001b[39m\u001b[32m185\u001b[39m         \u001b[38;5;28;01mraise\u001b[39;00m \u001b[38;5;28;43mself\u001b[39;49m\u001b[43m.\u001b[49m\u001b[43mlast_attempt\u001b[49m\u001b[43m.\u001b[49m\u001b[43mresult\u001b[49m\u001b[43m(\u001b[49m\u001b[43m)\u001b[49m\n\u001b[32m    186\u001b[39m     \u001b[38;5;28;01mraise\u001b[39;00m \u001b[38;5;28mself\u001b[39m\n",
      "\u001b[36mFile \u001b[39m\u001b[32m~/miniconda/envs/linebot/lib/python3.12/concurrent/futures/_base.py:449\u001b[39m, in \u001b[36mFuture.result\u001b[39m\u001b[34m(self, timeout)\u001b[39m\n\u001b[32m    447\u001b[39m     \u001b[38;5;28;01mraise\u001b[39;00m CancelledError()\n\u001b[32m    448\u001b[39m \u001b[38;5;28;01melif\u001b[39;00m \u001b[38;5;28mself\u001b[39m._state == FINISHED:\n\u001b[32m--> \u001b[39m\u001b[32m449\u001b[39m     \u001b[38;5;28;01mreturn\u001b[39;00m \u001b[38;5;28;43mself\u001b[39;49m\u001b[43m.\u001b[49m\u001b[43m__get_result\u001b[49m\u001b[43m(\u001b[49m\u001b[43m)\u001b[49m\n\u001b[32m    451\u001b[39m \u001b[38;5;28mself\u001b[39m._condition.wait(timeout)\n\u001b[32m    453\u001b[39m \u001b[38;5;28;01mif\u001b[39;00m \u001b[38;5;28mself\u001b[39m._state \u001b[38;5;129;01min\u001b[39;00m [CANCELLED, CANCELLED_AND_NOTIFIED]:\n",
      "\u001b[36mFile \u001b[39m\u001b[32m~/miniconda/envs/linebot/lib/python3.12/concurrent/futures/_base.py:401\u001b[39m, in \u001b[36mFuture.__get_result\u001b[39m\u001b[34m(self)\u001b[39m\n\u001b[32m    399\u001b[39m \u001b[38;5;28;01mif\u001b[39;00m \u001b[38;5;28mself\u001b[39m._exception:\n\u001b[32m    400\u001b[39m     \u001b[38;5;28;01mtry\u001b[39;00m:\n\u001b[32m--> \u001b[39m\u001b[32m401\u001b[39m         \u001b[38;5;28;01mraise\u001b[39;00m \u001b[38;5;28mself\u001b[39m._exception\n\u001b[32m    402\u001b[39m     \u001b[38;5;28;01mfinally\u001b[39;00m:\n\u001b[32m    403\u001b[39m         \u001b[38;5;66;03m# Break a reference cycle with the exception in self._exception\u001b[39;00m\n\u001b[32m    404\u001b[39m         \u001b[38;5;28mself\u001b[39m = \u001b[38;5;28;01mNone\u001b[39;00m\n",
      "\u001b[36mFile \u001b[39m\u001b[32m~/miniconda/envs/linebot/lib/python3.12/site-packages/tenacity/__init__.py:478\u001b[39m, in \u001b[36mRetrying.__call__\u001b[39m\u001b[34m(self, fn, *args, **kwargs)\u001b[39m\n\u001b[32m    476\u001b[39m \u001b[38;5;28;01mif\u001b[39;00m \u001b[38;5;28misinstance\u001b[39m(do, DoAttempt):\n\u001b[32m    477\u001b[39m     \u001b[38;5;28;01mtry\u001b[39;00m:\n\u001b[32m--> \u001b[39m\u001b[32m478\u001b[39m         result = \u001b[43mfn\u001b[49m\u001b[43m(\u001b[49m\u001b[43m*\u001b[49m\u001b[43margs\u001b[49m\u001b[43m,\u001b[49m\u001b[43m \u001b[49m\u001b[43m*\u001b[49m\u001b[43m*\u001b[49m\u001b[43mkwargs\u001b[49m\u001b[43m)\u001b[49m\n\u001b[32m    479\u001b[39m     \u001b[38;5;28;01mexcept\u001b[39;00m \u001b[38;5;167;01mBaseException\u001b[39;00m:  \u001b[38;5;66;03m# noqa: B902\u001b[39;00m\n\u001b[32m    480\u001b[39m         retry_state.set_exception(sys.exc_info())  \u001b[38;5;66;03m# type: ignore[arg-type]\u001b[39;00m\n",
      "\u001b[36mFile \u001b[39m\u001b[32m~/miniconda/envs/linebot/lib/python3.12/site-packages/google/genai/_api_client.py:974\u001b[39m, in \u001b[36mBaseApiClient._request_once\u001b[39m\u001b[34m(self, http_request, stream)\u001b[39m\n\u001b[32m    966\u001b[39m \u001b[38;5;28;01melse\u001b[39;00m:\n\u001b[32m    967\u001b[39m   response = \u001b[38;5;28mself\u001b[39m._httpx_client.request(\n\u001b[32m    968\u001b[39m       method=http_request.method,\n\u001b[32m    969\u001b[39m       url=http_request.url,\n\u001b[32m   (...)\u001b[39m\u001b[32m    972\u001b[39m       timeout=http_request.timeout,\n\u001b[32m    973\u001b[39m   )\n\u001b[32m--> \u001b[39m\u001b[32m974\u001b[39m   \u001b[43merrors\u001b[49m\u001b[43m.\u001b[49m\u001b[43mAPIError\u001b[49m\u001b[43m.\u001b[49m\u001b[43mraise_for_response\u001b[49m\u001b[43m(\u001b[49m\u001b[43mresponse\u001b[49m\u001b[43m)\u001b[49m\n\u001b[32m    975\u001b[39m   \u001b[38;5;28;01mreturn\u001b[39;00m HttpResponse(\n\u001b[32m    976\u001b[39m       response.headers, response \u001b[38;5;28;01mif\u001b[39;00m stream \u001b[38;5;28;01melse\u001b[39;00m [response.text]\n\u001b[32m    977\u001b[39m   )\n",
      "\u001b[36mFile \u001b[39m\u001b[32m~/miniconda/envs/linebot/lib/python3.12/site-packages/google/genai/errors.py:105\u001b[39m, in \u001b[36mAPIError.raise_for_response\u001b[39m\u001b[34m(cls, response)\u001b[39m\n\u001b[32m    103\u001b[39m status_code = response.status_code\n\u001b[32m    104\u001b[39m \u001b[38;5;28;01mif\u001b[39;00m \u001b[32m400\u001b[39m <= status_code < \u001b[32m500\u001b[39m:\n\u001b[32m--> \u001b[39m\u001b[32m105\u001b[39m   \u001b[38;5;28;01mraise\u001b[39;00m ClientError(status_code, response_json, response)\n\u001b[32m    106\u001b[39m \u001b[38;5;28;01melif\u001b[39;00m \u001b[32m500\u001b[39m <= status_code < \u001b[32m600\u001b[39m:\n\u001b[32m    107\u001b[39m   \u001b[38;5;28;01mraise\u001b[39;00m ServerError(status_code, response_json, response)\n",
      "\u001b[31mClientError\u001b[39m: 400 INVALID_ARGUMENT. {'error': {'code': 400, 'message': 'Please use a valid role: user, model.', 'status': 'INVALID_ARGUMENT'}}"
     ]
    }
   ],
   "source": [
    "import PIL.Image\n",
    "from google import genai\n",
    "from IPython.display import display, Markdown\n",
    "\n",
    "client = genai.Client()\n",
    "image = PIL.Image.open('capy.jpg')\n",
    "response = client.models.generate_content(\n",
    "    model=\"gemini-2.5-flash\",\n",
    "    contents=[image, \"請告訴我這是什麼動物,還有關於它的一些資訊\"]\n",
    ")\n",
    "\n",
    "display(Markdown(response.text))"
   ]
  },
  {
   "cell_type": "code",
   "execution_count": 22,
   "id": "3f968ce4",
   "metadata": {},
   "outputs": [
    {
     "name": "stdout",
     "output_type": "stream",
     "text": [
      "那很好啊！有兩隻狗狗作伴一定很熱鬧、很有趣。\n",
      "\n",
      "牠們是什麼品種的狗呢？如果家裡有兩隻狗，那麼總共有 **8隻爪子** (八只爪子)。\n",
      "\n",
      "因為每隻狗有4隻爪子，所以兩隻狗就是 4 x 2 = 8 隻爪子。role - user: 我有2隻狗在我的房子內\n",
      "role - model: 那很好啊！有兩隻狗狗作伴一定很熱鬧、很有趣。\n",
      "\n",
      "牠們是什麼品種的狗呢？\n",
      "role - user: 在我家裏有多少爪子?\n",
      "role - model: 如果家裡有兩隻狗，那麼總共有 **8隻爪子** (八只爪子)。\n",
      "\n",
      "因為每隻狗有4隻爪子，所以兩隻狗就是 4 x 2 = 8 隻爪\n",
      "role - model: 子。\n"
     ]
    }
   ],
   "source": [
    "from google import genai\n",
    "\n",
    "client = genai.Client()\n",
    "chat = client.chats.create(model=\"gemini-2.5-flash\")\n",
    "\n",
    "response = chat.send_message_stream(\"我有2隻狗在我的房子內\")\n",
    "for chunk in response:\n",
    "    print(chunk.text, end=\"\")\n",
    "\n",
    "response = chat.send_message_stream('在我家裏有多少爪子?')\n",
    "for chunk in response:\n",
    "    print(chunk.text, end=\"\")\n",
    "\n",
    "for message in chat.get_history():\n",
    "    print(f'role - {message.role}', end=\": \")\n",
    "    print(message.parts[0].text)"
   ]
  }
 ],
 "metadata": {
  "kernelspec": {
   "display_name": "linebot",
   "language": "python",
   "name": "python3"
  },
  "language_info": {
   "codemirror_mode": {
    "name": "ipython",
    "version": 3
   },
   "file_extension": ".py",
   "mimetype": "text/x-python",
   "name": "python",
   "nbconvert_exporter": "python",
   "pygments_lexer": "ipython3",
   "version": "3.12.11"
  }
 },
 "nbformat": 4,
 "nbformat_minor": 5
}
