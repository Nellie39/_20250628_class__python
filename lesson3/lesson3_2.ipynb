{
 "cells": [
  {
   "cell_type": "code",
   "execution_count": null,
   "id": "69ebc0a4",
   "metadata": {},
   "outputs": [],
   "source": [
    "print(\"Hello python!\") "
   ]
  }
 ],
 "metadata": {
  "kernelspec": {
   "display_name": "Linebot",
   "language": "python",
   "name": "python3"
  },
  "language_info": {
   "name": "python",
   "version": "3.11.13"
  }
 },
 "nbformat": 4,
 "nbformat_minor": 5
}
