{
 "cells": [
  {
   "cell_type": "code",
   "execution_count": 8,
   "id": "5068dc4d",
   "metadata": {},
   "outputs": [
    {
     "name": "stdout",
     "output_type": "stream",
     "text": [
      "===========AI回應==============\n"
     ]
    },
    {
     "data": {
      "text/markdown": [
       "想像一下，Python的函式就像是工具箱裡的「專注」指令。\n",
       "\n",
       "**簡而言之，Python函式是程式碼，用於執行特定的任務。** 就像你準備好做某件事 (例如寫一篇報告)，函式就是提供你執行這個任務的步驟。\n",
       "\n",
       "**更詳細的解釋:**\n",
       "\n",
       "* **函式是可重複使用的指令:** 你可以重複執行相同的函式，這樣可以避免寫重複的程式碼。\n",
       "* **函式有參數:**  你可以給函式一些「參數」，這就像給函式一些參考或輸入。\n",
       "* **函式會執行特定的步驟:** 函式會根據你提供的參數，執行一些步驟。\n",
       "* **函式會返回結果:** 函式執行完畢後，會返回一個結果，可以讓你知道你的任務是否成功。\n",
       "\n",
       "**舉個例子:**\n",
       "\n",
       "假設你想計算 2 + 2：\n",
       "\n",
       "*  你需要一個函式，例如 `calculate_sum`。\n",
       "*  這個函式會需要兩個參數： `number1` 和 `number2`。\n",
       "*  函式會根據 `number1` 和 `number2` 的值，做加法計算，然後返回結果。\n",
       "\n",
       "**總之，Python函式就是Python程式碼的「小程序」，它能幫助你做各種各樣的事情。**\n",
       "\n",
       "希望這個解釋能幫助你理解 Python 函式的概念!  如果你想了解更多，可以問我更進一步。\n"
      ],
      "text/plain": [
       "<IPython.core.display.Markdown object>"
      ]
     },
     "metadata": {},
     "output_type": "display_data"
    }
   ],
   "source": [
    "import requests\n",
    "#import pprint\n",
    "from pprint import pprint\n",
    "from IPython.display import Markdown, display\n",
    "\n",
    "def generate_with_ollama(prompt:str)->None:\n",
    "    url = \"http://localhost:11434/api/generate\"\n",
    "    payload = {\n",
    "        \"model\":\"gemma3:1b\",\n",
    "        \"prompt\":prompt,\n",
    "        \"stream\":False\n",
    "    }\n",
    "    response = requests.post(url,json=payload)\n",
    "    result = response.json()\n",
    "    #print(type(result))\n",
    "    #pprint(result)\n",
    "    print(\"===========AI回應==============\")\n",
    "    display(Markdown(result['response']))\n",
    "\n",
    "generate_with_ollama(\"請用簡單的方式解釋什麼是Python的函式？\")"
   ]
  }
 ],
 "metadata": {
  "kernelspec": {
   "display_name": "linebot",
   "language": "python",
   "name": "python3"
  },
  "language_info": {
   "codemirror_mode": {
    "name": "ipython",
    "version": 3
   },
   "file_extension": ".py",
   "mimetype": "text/x-python",
   "name": "python",
   "nbconvert_exporter": "python",
   "pygments_lexer": "ipython3",
   "version": "3.12.11"
  }
 },
 "nbformat": 4,
 "nbformat_minor": 5
}
