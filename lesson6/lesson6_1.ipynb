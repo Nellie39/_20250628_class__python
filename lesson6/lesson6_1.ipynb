{
 "cells": [
  {
   "cell_type": "code",
   "execution_count": 1,
   "id": "25622bd0",
   "metadata": {},
   "outputs": [
    {
     "data": {
      "text/plain": [
       "('小明', 30, 175.5)"
      ]
     },
     "execution_count": 1,
     "metadata": {},
     "output_type": "execute_result"
    }
   ],
   "source": [
    "# 變數 (Variable)\n",
    "name = \"小明\"\n",
    "age = 30\n",
    "height = 175.5\n",
    "\n",
    "name, age, height # Tuple of variables\n"
   ]
  },
  {
   "cell_type": "code",
   "execution_count": 3,
   "id": "d6844028",
   "metadata": {},
   "outputs": [
    {
     "name": "stdout",
     "output_type": "stream",
     "text": [
      "<class 'list'>\n",
      "水果清單 ['蘋果', '香蕉', '橘子']\n",
      "第一個水果 蘋果\n",
      "反轉後的水果清單 ['橘子', '香蕉', '蘋果']\n"
     ]
    }
   ],
   "source": [
    "fruits = [\"蘋果\", \"香蕉\", \"橘子\"]\n",
    "print(type(fruits)) # Type of fruits list (type: list的實體)\n",
    "print(\"水果清單\", fruits)  # List of fruits\n",
    "print(\"第一個水果\", fruits[0])  # Accessing the first fruit\n",
    "fruits.reverse()  # Reverse the list of fruits (反轉清單)\n",
    "print(\"反轉後的水果清單\", fruits)  # List of fruits after reversing\n"
   ]
  }
 ],
 "metadata": {
  "kernelspec": {
   "display_name": "linebot",
   "language": "python",
   "name": "python3"
  },
  "language_info": {
   "codemirror_mode": {
    "name": "ipython",
    "version": 3
   },
   "file_extension": ".py",
   "mimetype": "text/x-python",
   "name": "python",
   "nbconvert_exporter": "python",
   "pygments_lexer": "ipython3",
   "version": "3.12.11"
  }
 },
 "nbformat": 4,
 "nbformat_minor": 5
}
